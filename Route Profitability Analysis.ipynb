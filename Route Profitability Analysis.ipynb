{
 "cells": [
  {
   "cell_type": "markdown",
   "id": "8662e9a0-a8a9-4143-9e2f-6b0e3589158a",
   "metadata": {},
   "source": [
    "## Route Profitability Analysis\n",
    "\n",
    "### Objective:\n",
    "The goal of this project is to identify the most and least profitable airline routes in the U.S. using historical flight fare and route data. By comparing estimated operating costs against passenger revenues, we aim to determine which city pairs generate the highest returns—and which consistently operate at a loss.\n",
    "\n",
    "### Key Features:\n",
    "- **Revenue Modeling**: Based on average fare and passenger volume per route.\n",
    "- **Cost Estimation**: Estimated operating cost using distance, block time, and quarterly cost per block-minute (derived from A4A trend reports).\n",
    "- **Profitability Metrics**: Calculate per-route profit and profit margins.\n",
    "- **Interactive Visualizations**: Top and bottom 10 routes plotted geospatially for selected quarters.\n",
    "- **Custom API Functions**: Query route-level profitability on demand.\n",
    "\n",
    "### Dataset:\n",
    "The base dataset is sourced from [Kaggle: US Airline Flight Routes and Fares](https://www.kaggle.com/datasets/amitzala/us-airline-flight-routes-and-fares). It includes over 240,000 records of domestic routes with quarterly details on fares, distance, passengers, and airport pairs.\n",
    "\n",
    "### Operating Cost Source:\n",
    "Quarterly cost per block-minute is interpolated based on industry data from Airlines for America (A4A). Reported costs include fuel, crew, and maintenance expenses for U.S. passenger airlines. These estimates span from 1993 to 2024.\n",
    "Reference: [Airlines for America (A4A) Economic Reports](https://www.airlines.org/dataset/per-minute-cost-of-operating-aircraft-paci/)\n",
    "\n",
    "### Tools & Techniques:\n",
    "- Python (pandas, numpy, plotly)\n",
    "- REST-style helper functions\n",
    "- Interpolated quarterly operating cost modeling (based on A4A block-minute estimates)\n",
    "\n",
    "This analysis enables airline planners and data analysts to explore which routes could benefit from optimization through fleet assignment, pricing strategy, or frequency adjustment.\n",
    "\n",
    "Adapted REST API with dataset integration for notebook environments:"
   ]
  },
  {
   "cell_type": "code",
   "execution_count": 1,
   "id": "541f69a7-fda9-4dc4-8be2-a7757104a89f",
   "metadata": {},
   "outputs": [
    {
     "name": "stdout",
     "output_type": "stream",
     "text": [
      "Requirement already satisfied: plotly in c:\\users\\slind\\appdata\\local\\packages\\pythonsoftwarefoundation.python.3.11_qbz5n2kfra8p0\\localcache\\local-packages\\python311\\site-packages (6.1.2)\n",
      "Requirement already satisfied: narwhals>=1.15.1 in c:\\users\\slind\\appdata\\local\\packages\\pythonsoftwarefoundation.python.3.11_qbz5n2kfra8p0\\localcache\\local-packages\\python311\\site-packages (from plotly) (1.43.1)\n",
      "Requirement already satisfied: packaging in c:\\users\\slind\\appdata\\local\\packages\\pythonsoftwarefoundation.python.3.11_qbz5n2kfra8p0\\localcache\\local-packages\\python311\\site-packages (from plotly) (24.2)\n"
     ]
    }
   ],
   "source": [
    "import os\n",
    "from kaggle.api.kaggle_api_extended import KaggleApi\n",
    "import numpy as np\n",
    "import pandas as pd\n",
    "\n",
    "!pip install plotly\n",
    "import plotly.graph_objects as go"
   ]
  },
  {
   "cell_type": "code",
   "execution_count": 2,
   "id": "fbe3614a-d754-4fad-86f5-0f7e2870edf5",
   "metadata": {},
   "outputs": [
    {
     "name": "stdout",
     "output_type": "stream",
     "text": [
      "Dataset URL: https://www.kaggle.com/datasets/amitzala/us-airline-flight-routes-and-fares\n"
     ]
    }
   ],
   "source": [
    "# Authenticate Kaggle API\n",
    "api = KaggleApi()\n",
    "api.authenticate()\n",
    "\n",
    "# Dataset slug\n",
    "dataset = \"amitzala/us-airline-flight-routes-and-fares\"\n",
    "\n",
    "# Download to current directory\n",
    "api.dataset_download_files(dataset, path=\"data\", unzip=True)"
   ]
  },
  {
   "cell_type": "code",
   "execution_count": 3,
   "id": "e87618a8-474d-4b84-bff2-37d178e3326d",
   "metadata": {},
   "outputs": [
    {
     "name": "stderr",
     "output_type": "stream",
     "text": [
      "C:\\Users\\slind\\AppData\\Local\\Temp\\ipykernel_9956\\940454710.py:1: DtypeWarning: Columns (20,21) have mixed types. Specify dtype option on import or set low_memory=False.\n",
      "  df = pd.read_csv(\"data/US Airline Flight Routes and Fares.csv\")\n"
     ]
    },
    {
     "data": {
      "text/html": [
       "<div>\n",
       "<style scoped>\n",
       "    .dataframe tbody tr th:only-of-type {\n",
       "        vertical-align: middle;\n",
       "    }\n",
       "\n",
       "    .dataframe tbody tr th {\n",
       "        vertical-align: top;\n",
       "    }\n",
       "\n",
       "    .dataframe thead th {\n",
       "        text-align: right;\n",
       "    }\n",
       "</style>\n",
       "<table border=\"1\" class=\"dataframe\">\n",
       "  <thead>\n",
       "    <tr style=\"text-align: right;\">\n",
       "      <th></th>\n",
       "      <th>tbl</th>\n",
       "      <th>Year</th>\n",
       "      <th>quarter</th>\n",
       "      <th>citymarketid_1</th>\n",
       "      <th>citymarketid_2</th>\n",
       "      <th>city1</th>\n",
       "      <th>city2</th>\n",
       "      <th>airportid_1</th>\n",
       "      <th>airportid_2</th>\n",
       "      <th>airport_1</th>\n",
       "      <th>...</th>\n",
       "      <th>fare</th>\n",
       "      <th>carrier_lg</th>\n",
       "      <th>large_ms</th>\n",
       "      <th>fare_lg</th>\n",
       "      <th>carrier_low</th>\n",
       "      <th>lf_ms</th>\n",
       "      <th>fare_low</th>\n",
       "      <th>Geocoded_City1</th>\n",
       "      <th>Geocoded_City2</th>\n",
       "      <th>tbl1apk</th>\n",
       "    </tr>\n",
       "  </thead>\n",
       "  <tbody>\n",
       "    <tr>\n",
       "      <th>0</th>\n",
       "      <td>Table1a</td>\n",
       "      <td>2021</td>\n",
       "      <td>3</td>\n",
       "      <td>30135</td>\n",
       "      <td>33195</td>\n",
       "      <td>Allentown/Bethlehem/Easton, PA</td>\n",
       "      <td>Tampa, FL (Metropolitan Area)</td>\n",
       "      <td>10135</td>\n",
       "      <td>14112</td>\n",
       "      <td>ABE</td>\n",
       "      <td>...</td>\n",
       "      <td>81.43</td>\n",
       "      <td>G4</td>\n",
       "      <td>1.0000</td>\n",
       "      <td>81.43</td>\n",
       "      <td>G4</td>\n",
       "      <td>1.0000</td>\n",
       "      <td>81.43</td>\n",
       "      <td>NaN</td>\n",
       "      <td>NaN</td>\n",
       "      <td>202131013514112ABEPIE</td>\n",
       "    </tr>\n",
       "    <tr>\n",
       "      <th>1</th>\n",
       "      <td>Table1a</td>\n",
       "      <td>2021</td>\n",
       "      <td>3</td>\n",
       "      <td>30135</td>\n",
       "      <td>33195</td>\n",
       "      <td>Allentown/Bethlehem/Easton, PA</td>\n",
       "      <td>Tampa, FL (Metropolitan Area)</td>\n",
       "      <td>10135</td>\n",
       "      <td>15304</td>\n",
       "      <td>ABE</td>\n",
       "      <td>...</td>\n",
       "      <td>208.93</td>\n",
       "      <td>DL</td>\n",
       "      <td>0.4659</td>\n",
       "      <td>219.98</td>\n",
       "      <td>UA</td>\n",
       "      <td>0.1193</td>\n",
       "      <td>154.11</td>\n",
       "      <td>NaN</td>\n",
       "      <td>NaN</td>\n",
       "      <td>202131013515304ABETPA</td>\n",
       "    </tr>\n",
       "    <tr>\n",
       "      <th>2</th>\n",
       "      <td>Table1a</td>\n",
       "      <td>2021</td>\n",
       "      <td>3</td>\n",
       "      <td>30140</td>\n",
       "      <td>30194</td>\n",
       "      <td>Albuquerque, NM</td>\n",
       "      <td>Dallas/Fort Worth, TX</td>\n",
       "      <td>10140</td>\n",
       "      <td>11259</td>\n",
       "      <td>ABQ</td>\n",
       "      <td>...</td>\n",
       "      <td>184.56</td>\n",
       "      <td>WN</td>\n",
       "      <td>0.9968</td>\n",
       "      <td>184.44</td>\n",
       "      <td>WN</td>\n",
       "      <td>0.9968</td>\n",
       "      <td>184.44</td>\n",
       "      <td>NaN</td>\n",
       "      <td>NaN</td>\n",
       "      <td>202131014011259ABQDAL</td>\n",
       "    </tr>\n",
       "    <tr>\n",
       "      <th>3</th>\n",
       "      <td>Table1a</td>\n",
       "      <td>2021</td>\n",
       "      <td>3</td>\n",
       "      <td>30140</td>\n",
       "      <td>30194</td>\n",
       "      <td>Albuquerque, NM</td>\n",
       "      <td>Dallas/Fort Worth, TX</td>\n",
       "      <td>10140</td>\n",
       "      <td>11298</td>\n",
       "      <td>ABQ</td>\n",
       "      <td>...</td>\n",
       "      <td>182.64</td>\n",
       "      <td>AA</td>\n",
       "      <td>0.9774</td>\n",
       "      <td>183.09</td>\n",
       "      <td>AA</td>\n",
       "      <td>0.9774</td>\n",
       "      <td>183.09</td>\n",
       "      <td>NaN</td>\n",
       "      <td>NaN</td>\n",
       "      <td>202131014011298ABQDFW</td>\n",
       "    </tr>\n",
       "    <tr>\n",
       "      <th>4</th>\n",
       "      <td>Table1a</td>\n",
       "      <td>2021</td>\n",
       "      <td>3</td>\n",
       "      <td>30140</td>\n",
       "      <td>30466</td>\n",
       "      <td>Albuquerque, NM</td>\n",
       "      <td>Phoenix, AZ</td>\n",
       "      <td>10140</td>\n",
       "      <td>14107</td>\n",
       "      <td>ABQ</td>\n",
       "      <td>...</td>\n",
       "      <td>177.11</td>\n",
       "      <td>WN</td>\n",
       "      <td>0.6061</td>\n",
       "      <td>184.49</td>\n",
       "      <td>AA</td>\n",
       "      <td>0.3939</td>\n",
       "      <td>165.77</td>\n",
       "      <td>NaN</td>\n",
       "      <td>NaN</td>\n",
       "      <td>202131014014107ABQPHX</td>\n",
       "    </tr>\n",
       "  </tbody>\n",
       "</table>\n",
       "<p>5 rows × 23 columns</p>\n",
       "</div>"
      ],
      "text/plain": [
       "       tbl  Year  quarter  citymarketid_1  citymarketid_2  \\\n",
       "0  Table1a  2021        3           30135           33195   \n",
       "1  Table1a  2021        3           30135           33195   \n",
       "2  Table1a  2021        3           30140           30194   \n",
       "3  Table1a  2021        3           30140           30194   \n",
       "4  Table1a  2021        3           30140           30466   \n",
       "\n",
       "                            city1                          city2  airportid_1  \\\n",
       "0  Allentown/Bethlehem/Easton, PA  Tampa, FL (Metropolitan Area)        10135   \n",
       "1  Allentown/Bethlehem/Easton, PA  Tampa, FL (Metropolitan Area)        10135   \n",
       "2                 Albuquerque, NM          Dallas/Fort Worth, TX        10140   \n",
       "3                 Albuquerque, NM          Dallas/Fort Worth, TX        10140   \n",
       "4                 Albuquerque, NM                    Phoenix, AZ        10140   \n",
       "\n",
       "   airportid_2 airport_1  ...    fare  carrier_lg  large_ms  fare_lg  \\\n",
       "0        14112       ABE  ...   81.43          G4    1.0000    81.43   \n",
       "1        15304       ABE  ...  208.93          DL    0.4659   219.98   \n",
       "2        11259       ABQ  ...  184.56          WN    0.9968   184.44   \n",
       "3        11298       ABQ  ...  182.64          AA    0.9774   183.09   \n",
       "4        14107       ABQ  ...  177.11          WN    0.6061   184.49   \n",
       "\n",
       "  carrier_low   lf_ms  fare_low Geocoded_City1  Geocoded_City2  \\\n",
       "0          G4  1.0000     81.43            NaN             NaN   \n",
       "1          UA  0.1193    154.11            NaN             NaN   \n",
       "2          WN  0.9968    184.44            NaN             NaN   \n",
       "3          AA  0.9774    183.09            NaN             NaN   \n",
       "4          AA  0.3939    165.77            NaN             NaN   \n",
       "\n",
       "                 tbl1apk  \n",
       "0  202131013514112ABEPIE  \n",
       "1  202131013515304ABETPA  \n",
       "2  202131014011259ABQDAL  \n",
       "3  202131014011298ABQDFW  \n",
       "4  202131014014107ABQPHX  \n",
       "\n",
       "[5 rows x 23 columns]"
      ]
     },
     "execution_count": 3,
     "metadata": {},
     "output_type": "execute_result"
    }
   ],
   "source": [
    "df = pd.read_csv(\"data/US Airline Flight Routes and Fares.csv\")\n",
    "df.head()"
   ]
  },
  {
   "cell_type": "code",
   "execution_count": 4,
   "id": "27ccf5ad-a2b4-4525-88d5-af44900a706e",
   "metadata": {},
   "outputs": [
    {
     "name": "stdout",
     "output_type": "stream",
     "text": [
      "<class 'pandas.core.frame.DataFrame'>\n",
      "RangeIndex: 245955 entries, 0 to 245954\n",
      "Data columns (total 23 columns):\n",
      " #   Column          Non-Null Count   Dtype  \n",
      "---  ------          --------------   -----  \n",
      " 0   tbl             245955 non-null  object \n",
      " 1   Year            245955 non-null  int64  \n",
      " 2   quarter         245955 non-null  int64  \n",
      " 3   citymarketid_1  245955 non-null  int64  \n",
      " 4   citymarketid_2  245955 non-null  int64  \n",
      " 5   city1           245955 non-null  object \n",
      " 6   city2           245955 non-null  object \n",
      " 7   airportid_1     245955 non-null  int64  \n",
      " 8   airportid_2     245955 non-null  int64  \n",
      " 9   airport_1       245955 non-null  object \n",
      " 10  airport_2       245955 non-null  object \n",
      " 11  nsmiles         245955 non-null  int64  \n",
      " 12  passengers      245955 non-null  int64  \n",
      " 13  fare            245955 non-null  float64\n",
      " 14  carrier_lg      244415 non-null  object \n",
      " 15  large_ms        244415 non-null  float64\n",
      " 16  fare_lg         244415 non-null  float64\n",
      " 17  carrier_low     244343 non-null  object \n",
      " 18  lf_ms           244343 non-null  float64\n",
      " 19  fare_low        244343 non-null  float64\n",
      " 20  Geocoded_City1  206749 non-null  object \n",
      " 21  Geocoded_City2  206749 non-null  object \n",
      " 22  tbl1apk         245955 non-null  object \n",
      "dtypes: float64(5), int64(8), object(10)\n",
      "memory usage: 43.2+ MB\n"
     ]
    }
   ],
   "source": [
    "df.info()"
   ]
  },
  {
   "cell_type": "markdown",
   "id": "a968efca-4e22-4402-b6ca-d47597b6032d",
   "metadata": {},
   "source": [
    "## Dataset Description:\n",
    "The dataset contains quarterly records of U.S. domestic airline routes, including:\n",
    "- Origin and destination cities and airports\n",
    "- Fare information and number of passengers\n",
    "- Distance in nautical miles\n",
    "- Carrier types and market share estimates\n",
    "- Time period (year and quarter)\n",
    "\n",
    "Each row represents a unique route per quarter, enabling trend analysis and profitability modeling."
   ]
  },
  {
   "cell_type": "markdown",
   "id": "4d39108e-4dab-47b5-b6eb-e7c2ca470d1b",
   "metadata": {},
   "source": [
    "## Route Profitability Modeling\n",
    "\n",
    "This section simulates quarterly operating costs from 1993 to 2024 using a linear interpolation of block-minute costs derived from A4A (Airlines for America) economic trend data. These costs include fuel, crew, and maintenance expenses and are assumed to rise gradually from $50.00 to $102.00 per block-minute over the 31-year span.\n",
    "\n",
    "Each route in the dataset is enriched with distance (converted to km), estimated block minutes (assuming average aircraft speed of 850 km/h), and interpolated cost per block-minute based on the flight's corresponding year and quarter.\n",
    "\n",
    "Using this, we compute:\n",
    "- Estimated revenue (average fare × passengers)\n",
    "- Estimated operating cost (block_minutes × cost per block-minute)\n",
    "- Profit and profit margin per route\n",
    "These values allow us to analyze airline route profitability at a granular level.\n",
    "\n",
    "Additionally, we parse geographic coordinates for route visualization and define utility functions to plot and query top/bottom routes per quarter."
   ]
  },
  {
   "cell_type": "code",
   "execution_count": 5,
   "id": "a2d9ea16-f8a4-4477-9a8e-8abaf5609f2a",
   "metadata": {},
   "outputs": [],
   "source": [
    "# Generate historical block-minute cost estimates per quarter from 1993 to 2024\n",
    "quarters = pd.date_range(start='1993-01-01', end='2024-12-31', freq='QS')\n",
    "n_quarters = len(quarters)\n",
    "block_min_costs = np.linspace(50.00, 102.00, n_quarters)\n",
    "cost_table = pd.DataFrame({\n",
    "    'year': quarters.year,\n",
    "    'quarter': quarters.quarter,\n",
    "    'block_min_cost': np.round(block_min_costs, 2)\n",
    "})\n",
    "\n",
    "# Prepare dataset\n",
    "df.columns = df.columns.str.replace(\" \", \"_\").str.lower()\n",
    "df['distance'] = df['nsmiles'] * 1.852  # Convert nautical miles to km\n",
    "\n",
    "# Merge cost by year and quarter\n",
    "df = df.merge(cost_table, how='left', left_on=['year', 'quarter'], right_on=['year', 'quarter'])\n",
    "\n",
    "# Estimate block minutes and operating costs using interpolated cost\n",
    "AVG_SPEED_KMH = 850\n",
    "df['block_minutes'] = (df['distance'] / AVG_SPEED_KMH) * 60\n",
    "\n",
    "# Use available fare and passengers\n",
    "df['average_fare'] = df['fare']\n",
    "df['revenue'] = df['passengers'] * df['average_fare']\n",
    "df['operating_cost'] = df['block_minutes'] * df['block_min_cost']\n",
    "df['profit'] = df['revenue'] - df['operating_cost']\n",
    "df['margin'] = df['profit'] / df['revenue']\n",
    "\n",
    "# Parse coordinates from geocoded fields\n",
    "def parse_coords(coord_str):\n",
    "    try:\n",
    "        return tuple(map(float, coord_str.strip('()').split(',')))\n",
    "    except:\n",
    "        return (None, None)\n",
    "\n",
    "df[['lat1', 'lon1']] = df['geocoded_city1'].apply(parse_coords).apply(pd.Series)\n",
    "df[['lat2', 'lon2']] = df['geocoded_city2'].apply(parse_coords).apply(pd.Series)\n",
    "\n",
    "# Visualize top/bottom profitable routes for a specific quarter in a year\n",
    "def plot_top_and_bottom_routes_by_quarter(year, quarter):\n",
    "    filtered_df = df[(df['year'] == year) & (df['quarter'] == quarter) & df[['lat1', 'lon1', 'lat2', 'lon2']].notnull().all(axis=1)]\n",
    "    agg_df = filtered_df.groupby(['airportid_1', 'airportid_2', 'lat1', 'lon1', 'lat2', 'lon2', 'city1', 'city2']).agg({\n",
    "        'profit': 'sum'\n",
    "    }).reset_index()\n",
    "\n",
    "    # Drop duplicates based on city-pairs to avoid multiple entries with same route\n",
    "    agg_df = agg_df.sort_values('profit', ascending=False).drop_duplicates(subset=['city1', 'city2'])\n",
    "    top_routes = agg_df.head(10).copy()\n",
    "\n",
    "    agg_df = agg_df.sort_values('profit', ascending=True).drop_duplicates(subset=['city1', 'city2'])\n",
    "    bottom_routes = agg_df.head(10).copy()\n",
    "\n",
    "    fig = go.Figure()\n",
    "\n",
    "    for idx, row in top_routes.iterrows():\n",
    "        fig.add_trace(go.Scattergeo(\n",
    "            locationmode='USA-states',\n",
    "            lon=[row['lon1'], row['lon2']],\n",
    "            lat=[row['lat1'], row['lat2']],\n",
    "            mode='lines',\n",
    "            line=dict(width=2, color='green'),\n",
    "            opacity=0.7,\n",
    "            name=f\"{row['city1']} → {row['city2']} | Profit: ${row['profit']:,.0f}\"\n",
    "        ))\n",
    "\n",
    "    for idx, row in bottom_routes.iterrows():\n",
    "        fig.add_trace(go.Scattergeo(\n",
    "            locationmode='USA-states',\n",
    "            lon=[row['lon1'], row['lon2']],\n",
    "            lat=[row['lat1'], row['lat2']],\n",
    "            mode='lines',\n",
    "            line=dict(width=2, color='red'),\n",
    "            opacity=0.7,\n",
    "            name=f\"{row['city1']} → {row['city2']} | Loss: ${abs(row['profit']):,.0f}\"\n",
    "        ))\n",
    "\n",
    "    fig.update_layout(\n",
    "        title=f'Top & Bottom Airline Route Profitability (USA) - {year} Q{quarter}',\n",
    "        geo=dict(scope='usa'),\n",
    "        showlegend=True\n",
    "    )\n",
    "    fig.show()\n",
    "\n",
    "\n",
    "def get_route_profit_notebook(origin_id, dest_id, year):\n",
    "    filtered = df[(df['airportid_1'] == origin_id) & (df['airportid_2'] == dest_id) & (df['year'] == year)]\n",
    "    if filtered.empty:\n",
    "        return {'error': 'No data found for given route and year'}\n",
    "\n",
    "    row = filtered.iloc[0]\n",
    "    return {\n",
    "        'origin_id': row['airportid_1'],\n",
    "        'destination_id': row['airportid_2'],\n",
    "        'year': row['year'],\n",
    "        'quarter': row['quarter'],\n",
    "        'distance_km': round(row['distance'], 2),\n",
    "        'block_minutes': round(row['block_minutes'], 2),\n",
    "        'block_min_cost_usd': round(row['block_min_cost'], 2),\n",
    "        'average_fare': round(row['average_fare'], 2),\n",
    "        'passengers': int(row['passengers']),\n",
    "        'revenue': round(row['revenue'], 2),\n",
    "        'operating_cost': round(row['operating_cost'], 2),\n",
    "        'profit': round(row['profit'], 2),\n",
    "        'margin': round(row['margin'], 4)\n",
    "    }\n",
    "\n",
    "\n",
    "def get_top_profitable_notebook(year=None, top_n=10):\n",
    "    if year is None:\n",
    "        year = df['year'].max()\n",
    "    filtered = df[df['year'] == year].nlargest(top_n, 'profit')\n",
    "    return filtered[['airportid_1', 'airportid_2', 'profit']].to_dict(orient='records')"
   ]
  },
  {
   "cell_type": "markdown",
   "id": "ad0d71ad-52d6-473a-994c-35660a7d5ad5",
   "metadata": {},
   "source": [
    "This visualization displays the **most and least profitable U.S. domestic airline routes** for **Q3 2019**, based on route-level revenue and estimated operating costs.\n",
    "\n",
    "Operating cost is calculated using **interpolated quarterly block-minute costs** derived from historical **Airlines for America (A4A)** industry data (1993–2024).\n",
    "\n",
    " **Green lines** indicate routes with the highest profits.\n",
    " **Red lines** represent the most loss-making routes.\n",
    "\n",
    "Route profitability is computed from average fare, passenger volume, distance, and estimated block time, enabling a realistic view of airline performance by city pair."
   ]
  },
  {
   "cell_type": "code",
   "execution_count": 6,
   "id": "2a067417-7e2a-4b23-b47d-60928c9d3c5f",
   "metadata": {},
   "outputs": [
    {
     "data": {
      "application/vnd.plotly.v1+json": {
       "config": {
        "plotlyServerURL": "https://plot.ly"
       },
       "data": [
        {
         "lat": [
          34.052238,
          40.123164
         ],
         "line": {
          "color": "green",
          "width": 2
         },
         "locationmode": "USA-states",
         "lon": [
          -118.243344,
          -75.333718
         ],
         "mode": "lines",
         "name": "Los Angeles, CA (Metropolitan Area) → New York City, NY (Metropolitan Area) | Profit: $3,126,924",
         "opacity": 0.7,
         "type": "scattergeo"
        },
        {
         "lat": [
          40.123164,
          37.78008
         ],
         "line": {
          "color": "green",
          "width": 2
         },
         "locationmode": "USA-states",
         "lon": [
          -75.333718,
          -122.420168
         ],
         "mode": "lines",
         "name": "New York City, NY (Metropolitan Area) → San Francisco, CA (Metropolitan Area) | Profit: $1,739,029",
         "opacity": 0.7,
         "type": "scattergeo"
        },
        {
         "lat": [
          42.358894,
          37.78008
         ],
         "line": {
          "color": "green",
          "width": 2
         },
         "locationmode": "USA-states",
         "lon": [
          -71.056742,
          -122.420168
         ],
         "mode": "lines",
         "name": "Boston, MA (Metropolitan Area) → San Francisco, CA (Metropolitan Area) | Profit: $1,272,343",
         "opacity": 0.7,
         "type": "scattergeo"
        },
        {
         "lat": [
          41.775002,
          40.123164
         ],
         "line": {
          "color": "green",
          "width": 2
         },
         "locationmode": "USA-states",
         "lon": [
          -87.696388,
          -75.333718
         ],
         "mode": "lines",
         "name": "Chicago, IL → New York City, NY (Metropolitan Area) | Profit: $1,191,379",
         "opacity": 0.7,
         "type": "scattergeo"
        },
        {
         "lat": [
          41.775002,
          34.052238
         ],
         "line": {
          "color": "green",
          "width": 2
         },
         "locationmode": "USA-states",
         "lon": [
          -87.696388,
          -118.243344
         ],
         "mode": "lines",
         "name": "Chicago, IL → Los Angeles, CA (Metropolitan Area) | Profit: $1,108,527",
         "opacity": 0.7,
         "type": "scattergeo"
        },
        {
         "lat": [
          42.358894,
          34.052238
         ],
         "line": {
          "color": "green",
          "width": 2
         },
         "locationmode": "USA-states",
         "lon": [
          -71.056742,
          -118.243344
         ],
         "mode": "lines",
         "name": "Boston, MA (Metropolitan Area) → Los Angeles, CA (Metropolitan Area) | Profit: $1,089,989",
         "opacity": 0.7,
         "type": "scattergeo"
        },
        {
         "lat": [
          41.775002,
          37.78008
         ],
         "line": {
          "color": "green",
          "width": 2
         },
         "locationmode": "USA-states",
         "lon": [
          -87.696388,
          -122.420168
         ],
         "mode": "lines",
         "name": "Chicago, IL → San Francisco, CA (Metropolitan Area) | Profit: $999,389",
         "opacity": 0.7,
         "type": "scattergeo"
        },
        {
         "lat": [
          33.748547,
          34.052238
         ],
         "line": {
          "color": "green",
          "width": 2
         },
         "locationmode": "USA-states",
         "lon": [
          -84.391502,
          -118.243344
         ],
         "mode": "lines",
         "name": "Atlanta, GA (Metropolitan Area) → Los Angeles, CA (Metropolitan Area) | Profit: $815,497",
         "opacity": 0.7,
         "type": "scattergeo"
        },
        {
         "lat": [
          33.748547,
          40.123164
         ],
         "line": {
          "color": "green",
          "width": 2
         },
         "locationmode": "USA-states",
         "lon": [
          -84.391502,
          -75.333718
         ],
         "mode": "lines",
         "name": "Atlanta, GA (Metropolitan Area) → New York City, NY (Metropolitan Area) | Profit: $810,268",
         "opacity": 0.7,
         "type": "scattergeo"
        },
        {
         "lat": [
          34.052238,
          47.603229
         ],
         "line": {
          "color": "green",
          "width": 2
         },
         "locationmode": "USA-states",
         "lon": [
          -118.243344,
          -122.33028
         ],
         "mode": "lines",
         "name": "Los Angeles, CA (Metropolitan Area) → Seattle, WA | Profit: $720,268",
         "opacity": 0.7,
         "type": "scattergeo"
        },
        {
         "lat": [
          40.123164,
          35.167852
         ],
         "line": {
          "color": "red",
          "width": 2
         },
         "locationmode": "USA-states",
         "lon": [
          -75.333718,
          -103.726151
         ],
         "mode": "lines",
         "name": "New York City, NY (Metropolitan Area) → Tucson, AZ | Loss: $32",
         "opacity": 0.7,
         "type": "scattergeo"
        },
        {
         "lat": [
          38.835224,
          38.892062
         ],
         "line": {
          "color": "red",
          "width": 2
         },
         "locationmode": "USA-states",
         "lon": [
          -104.819798,
          -77.019912
         ],
         "mode": "lines",
         "name": "Colorado Springs, CO → Washington, DC (Metropolitan Area) | Loss: $3,363",
         "opacity": 0.7,
         "type": "scattergeo"
        },
        {
         "lat": [
          35.962631,
          37.8606
         ],
         "line": {
          "color": "red",
          "width": 2
         },
         "locationmode": "USA-states",
         "lon": [
          -83.916677,
          -78.804199
         ],
         "mode": "lines",
         "name": "Knoxville, TN → Tampa, FL (Metropolitan Area) | Loss: $5,394",
         "opacity": 0.7,
         "type": "scattergeo"
        },
        {
         "lat": [
          30.177159,
          38.892062
         ],
         "line": {
          "color": "red",
          "width": 2
         },
         "locationmode": "USA-states",
         "lon": [
          -95.162771,
          -77.019912
         ],
         "mode": "lines",
         "name": "Reno, NV → Washington, DC (Metropolitan Area) | Loss: $5,503",
         "opacity": 0.7,
         "type": "scattergeo"
        },
        {
         "lat": [
          30.406931,
          43.488765
         ],
         "line": {
          "color": "red",
          "width": 2
         },
         "locationmode": "USA-states",
         "lon": [
          -87.217578,
          -96.743185
         ],
         "mode": "lines",
         "name": "Phoenix, AZ → Sioux Falls, SD | Loss: $6,099",
         "opacity": 0.7,
         "type": "scattergeo"
        },
        {
         "lat": [
          31.76006,
          37.78008
         ],
         "line": {
          "color": "red",
          "width": 2
         },
         "locationmode": "USA-states",
         "lon": [
          -106.492257,
          -122.420168
         ],
         "mode": "lines",
         "name": "El Paso, TX → San Francisco, CA (Metropolitan Area) | Loss: $6,373",
         "opacity": 0.7,
         "type": "scattergeo"
        },
        {
         "lat": [
          47.925705,
          37.8606
         ],
         "line": {
          "color": "red",
          "width": 2
         },
         "locationmode": "USA-states",
         "lon": [
          -97.036068,
          -78.804199
         ],
         "mode": "lines",
         "name": "Grand Rapids, MI → Tampa, FL (Metropolitan Area) | Loss: $6,712",
         "opacity": 0.7,
         "type": "scattergeo"
        },
        {
         "lat": [
          43.047945,
          37.8606
         ],
         "line": {
          "color": "red",
          "width": 2
         },
         "locationmode": "USA-states",
         "lon": [
          -76.147448,
          -78.804199
         ],
         "mode": "lines",
         "name": "Syracuse, NY → Tampa, FL (Metropolitan Area) | Loss: $7,133",
         "opacity": 0.7,
         "type": "scattergeo"
        },
        {
         "lat": [
          41.698264,
          37.78008
         ],
         "line": {
          "color": "red",
          "width": 2
         },
         "locationmode": "USA-states",
         "lon": [
          -88.077915,
          -122.420168
         ],
         "mode": "lines",
         "name": "Bellingham, WA → San Francisco, CA (Metropolitan Area) | Loss: $7,957",
         "opacity": 0.7,
         "type": "scattergeo"
        },
        {
         "lat": [
          31.76006,
          40.123164
         ],
         "line": {
          "color": "red",
          "width": 2
         },
         "locationmode": "USA-states",
         "lon": [
          -106.492257,
          -75.333718
         ],
         "mode": "lines",
         "name": "El Paso, TX → New York City, NY (Metropolitan Area) | Loss: $10,665",
         "opacity": 0.7,
         "type": "scattergeo"
        }
       ],
       "layout": {
        "geo": {
         "scope": "usa"
        },
        "showlegend": true,
        "template": {
         "data": {
          "bar": [
           {
            "error_x": {
             "color": "#2a3f5f"
            },
            "error_y": {
             "color": "#2a3f5f"
            },
            "marker": {
             "line": {
              "color": "#E5ECF6",
              "width": 0.5
             },
             "pattern": {
              "fillmode": "overlay",
              "size": 10,
              "solidity": 0.2
             }
            },
            "type": "bar"
           }
          ],
          "barpolar": [
           {
            "marker": {
             "line": {
              "color": "#E5ECF6",
              "width": 0.5
             },
             "pattern": {
              "fillmode": "overlay",
              "size": 10,
              "solidity": 0.2
             }
            },
            "type": "barpolar"
           }
          ],
          "carpet": [
           {
            "aaxis": {
             "endlinecolor": "#2a3f5f",
             "gridcolor": "white",
             "linecolor": "white",
             "minorgridcolor": "white",
             "startlinecolor": "#2a3f5f"
            },
            "baxis": {
             "endlinecolor": "#2a3f5f",
             "gridcolor": "white",
             "linecolor": "white",
             "minorgridcolor": "white",
             "startlinecolor": "#2a3f5f"
            },
            "type": "carpet"
           }
          ],
          "choropleth": [
           {
            "colorbar": {
             "outlinewidth": 0,
             "ticks": ""
            },
            "type": "choropleth"
           }
          ],
          "contour": [
           {
            "colorbar": {
             "outlinewidth": 0,
             "ticks": ""
            },
            "colorscale": [
             [
              0,
              "#0d0887"
             ],
             [
              0.1111111111111111,
              "#46039f"
             ],
             [
              0.2222222222222222,
              "#7201a8"
             ],
             [
              0.3333333333333333,
              "#9c179e"
             ],
             [
              0.4444444444444444,
              "#bd3786"
             ],
             [
              0.5555555555555556,
              "#d8576b"
             ],
             [
              0.6666666666666666,
              "#ed7953"
             ],
             [
              0.7777777777777778,
              "#fb9f3a"
             ],
             [
              0.8888888888888888,
              "#fdca26"
             ],
             [
              1,
              "#f0f921"
             ]
            ],
            "type": "contour"
           }
          ],
          "contourcarpet": [
           {
            "colorbar": {
             "outlinewidth": 0,
             "ticks": ""
            },
            "type": "contourcarpet"
           }
          ],
          "heatmap": [
           {
            "colorbar": {
             "outlinewidth": 0,
             "ticks": ""
            },
            "colorscale": [
             [
              0,
              "#0d0887"
             ],
             [
              0.1111111111111111,
              "#46039f"
             ],
             [
              0.2222222222222222,
              "#7201a8"
             ],
             [
              0.3333333333333333,
              "#9c179e"
             ],
             [
              0.4444444444444444,
              "#bd3786"
             ],
             [
              0.5555555555555556,
              "#d8576b"
             ],
             [
              0.6666666666666666,
              "#ed7953"
             ],
             [
              0.7777777777777778,
              "#fb9f3a"
             ],
             [
              0.8888888888888888,
              "#fdca26"
             ],
             [
              1,
              "#f0f921"
             ]
            ],
            "type": "heatmap"
           }
          ],
          "histogram": [
           {
            "marker": {
             "pattern": {
              "fillmode": "overlay",
              "size": 10,
              "solidity": 0.2
             }
            },
            "type": "histogram"
           }
          ],
          "histogram2d": [
           {
            "colorbar": {
             "outlinewidth": 0,
             "ticks": ""
            },
            "colorscale": [
             [
              0,
              "#0d0887"
             ],
             [
              0.1111111111111111,
              "#46039f"
             ],
             [
              0.2222222222222222,
              "#7201a8"
             ],
             [
              0.3333333333333333,
              "#9c179e"
             ],
             [
              0.4444444444444444,
              "#bd3786"
             ],
             [
              0.5555555555555556,
              "#d8576b"
             ],
             [
              0.6666666666666666,
              "#ed7953"
             ],
             [
              0.7777777777777778,
              "#fb9f3a"
             ],
             [
              0.8888888888888888,
              "#fdca26"
             ],
             [
              1,
              "#f0f921"
             ]
            ],
            "type": "histogram2d"
           }
          ],
          "histogram2dcontour": [
           {
            "colorbar": {
             "outlinewidth": 0,
             "ticks": ""
            },
            "colorscale": [
             [
              0,
              "#0d0887"
             ],
             [
              0.1111111111111111,
              "#46039f"
             ],
             [
              0.2222222222222222,
              "#7201a8"
             ],
             [
              0.3333333333333333,
              "#9c179e"
             ],
             [
              0.4444444444444444,
              "#bd3786"
             ],
             [
              0.5555555555555556,
              "#d8576b"
             ],
             [
              0.6666666666666666,
              "#ed7953"
             ],
             [
              0.7777777777777778,
              "#fb9f3a"
             ],
             [
              0.8888888888888888,
              "#fdca26"
             ],
             [
              1,
              "#f0f921"
             ]
            ],
            "type": "histogram2dcontour"
           }
          ],
          "mesh3d": [
           {
            "colorbar": {
             "outlinewidth": 0,
             "ticks": ""
            },
            "type": "mesh3d"
           }
          ],
          "parcoords": [
           {
            "line": {
             "colorbar": {
              "outlinewidth": 0,
              "ticks": ""
             }
            },
            "type": "parcoords"
           }
          ],
          "pie": [
           {
            "automargin": true,
            "type": "pie"
           }
          ],
          "scatter": [
           {
            "fillpattern": {
             "fillmode": "overlay",
             "size": 10,
             "solidity": 0.2
            },
            "type": "scatter"
           }
          ],
          "scatter3d": [
           {
            "line": {
             "colorbar": {
              "outlinewidth": 0,
              "ticks": ""
             }
            },
            "marker": {
             "colorbar": {
              "outlinewidth": 0,
              "ticks": ""
             }
            },
            "type": "scatter3d"
           }
          ],
          "scattercarpet": [
           {
            "marker": {
             "colorbar": {
              "outlinewidth": 0,
              "ticks": ""
             }
            },
            "type": "scattercarpet"
           }
          ],
          "scattergeo": [
           {
            "marker": {
             "colorbar": {
              "outlinewidth": 0,
              "ticks": ""
             }
            },
            "type": "scattergeo"
           }
          ],
          "scattergl": [
           {
            "marker": {
             "colorbar": {
              "outlinewidth": 0,
              "ticks": ""
             }
            },
            "type": "scattergl"
           }
          ],
          "scattermap": [
           {
            "marker": {
             "colorbar": {
              "outlinewidth": 0,
              "ticks": ""
             }
            },
            "type": "scattermap"
           }
          ],
          "scattermapbox": [
           {
            "marker": {
             "colorbar": {
              "outlinewidth": 0,
              "ticks": ""
             }
            },
            "type": "scattermapbox"
           }
          ],
          "scatterpolar": [
           {
            "marker": {
             "colorbar": {
              "outlinewidth": 0,
              "ticks": ""
             }
            },
            "type": "scatterpolar"
           }
          ],
          "scatterpolargl": [
           {
            "marker": {
             "colorbar": {
              "outlinewidth": 0,
              "ticks": ""
             }
            },
            "type": "scatterpolargl"
           }
          ],
          "scatterternary": [
           {
            "marker": {
             "colorbar": {
              "outlinewidth": 0,
              "ticks": ""
             }
            },
            "type": "scatterternary"
           }
          ],
          "surface": [
           {
            "colorbar": {
             "outlinewidth": 0,
             "ticks": ""
            },
            "colorscale": [
             [
              0,
              "#0d0887"
             ],
             [
              0.1111111111111111,
              "#46039f"
             ],
             [
              0.2222222222222222,
              "#7201a8"
             ],
             [
              0.3333333333333333,
              "#9c179e"
             ],
             [
              0.4444444444444444,
              "#bd3786"
             ],
             [
              0.5555555555555556,
              "#d8576b"
             ],
             [
              0.6666666666666666,
              "#ed7953"
             ],
             [
              0.7777777777777778,
              "#fb9f3a"
             ],
             [
              0.8888888888888888,
              "#fdca26"
             ],
             [
              1,
              "#f0f921"
             ]
            ],
            "type": "surface"
           }
          ],
          "table": [
           {
            "cells": {
             "fill": {
              "color": "#EBF0F8"
             },
             "line": {
              "color": "white"
             }
            },
            "header": {
             "fill": {
              "color": "#C8D4E3"
             },
             "line": {
              "color": "white"
             }
            },
            "type": "table"
           }
          ]
         },
         "layout": {
          "annotationdefaults": {
           "arrowcolor": "#2a3f5f",
           "arrowhead": 0,
           "arrowwidth": 1
          },
          "autotypenumbers": "strict",
          "coloraxis": {
           "colorbar": {
            "outlinewidth": 0,
            "ticks": ""
           }
          },
          "colorscale": {
           "diverging": [
            [
             0,
             "#8e0152"
            ],
            [
             0.1,
             "#c51b7d"
            ],
            [
             0.2,
             "#de77ae"
            ],
            [
             0.3,
             "#f1b6da"
            ],
            [
             0.4,
             "#fde0ef"
            ],
            [
             0.5,
             "#f7f7f7"
            ],
            [
             0.6,
             "#e6f5d0"
            ],
            [
             0.7,
             "#b8e186"
            ],
            [
             0.8,
             "#7fbc41"
            ],
            [
             0.9,
             "#4d9221"
            ],
            [
             1,
             "#276419"
            ]
           ],
           "sequential": [
            [
             0,
             "#0d0887"
            ],
            [
             0.1111111111111111,
             "#46039f"
            ],
            [
             0.2222222222222222,
             "#7201a8"
            ],
            [
             0.3333333333333333,
             "#9c179e"
            ],
            [
             0.4444444444444444,
             "#bd3786"
            ],
            [
             0.5555555555555556,
             "#d8576b"
            ],
            [
             0.6666666666666666,
             "#ed7953"
            ],
            [
             0.7777777777777778,
             "#fb9f3a"
            ],
            [
             0.8888888888888888,
             "#fdca26"
            ],
            [
             1,
             "#f0f921"
            ]
           ],
           "sequentialminus": [
            [
             0,
             "#0d0887"
            ],
            [
             0.1111111111111111,
             "#46039f"
            ],
            [
             0.2222222222222222,
             "#7201a8"
            ],
            [
             0.3333333333333333,
             "#9c179e"
            ],
            [
             0.4444444444444444,
             "#bd3786"
            ],
            [
             0.5555555555555556,
             "#d8576b"
            ],
            [
             0.6666666666666666,
             "#ed7953"
            ],
            [
             0.7777777777777778,
             "#fb9f3a"
            ],
            [
             0.8888888888888888,
             "#fdca26"
            ],
            [
             1,
             "#f0f921"
            ]
           ]
          },
          "colorway": [
           "#636efa",
           "#EF553B",
           "#00cc96",
           "#ab63fa",
           "#FFA15A",
           "#19d3f3",
           "#FF6692",
           "#B6E880",
           "#FF97FF",
           "#FECB52"
          ],
          "font": {
           "color": "#2a3f5f"
          },
          "geo": {
           "bgcolor": "white",
           "lakecolor": "white",
           "landcolor": "#E5ECF6",
           "showlakes": true,
           "showland": true,
           "subunitcolor": "white"
          },
          "hoverlabel": {
           "align": "left"
          },
          "hovermode": "closest",
          "mapbox": {
           "style": "light"
          },
          "paper_bgcolor": "white",
          "plot_bgcolor": "#E5ECF6",
          "polar": {
           "angularaxis": {
            "gridcolor": "white",
            "linecolor": "white",
            "ticks": ""
           },
           "bgcolor": "#E5ECF6",
           "radialaxis": {
            "gridcolor": "white",
            "linecolor": "white",
            "ticks": ""
           }
          },
          "scene": {
           "xaxis": {
            "backgroundcolor": "#E5ECF6",
            "gridcolor": "white",
            "gridwidth": 2,
            "linecolor": "white",
            "showbackground": true,
            "ticks": "",
            "zerolinecolor": "white"
           },
           "yaxis": {
            "backgroundcolor": "#E5ECF6",
            "gridcolor": "white",
            "gridwidth": 2,
            "linecolor": "white",
            "showbackground": true,
            "ticks": "",
            "zerolinecolor": "white"
           },
           "zaxis": {
            "backgroundcolor": "#E5ECF6",
            "gridcolor": "white",
            "gridwidth": 2,
            "linecolor": "white",
            "showbackground": true,
            "ticks": "",
            "zerolinecolor": "white"
           }
          },
          "shapedefaults": {
           "line": {
            "color": "#2a3f5f"
           }
          },
          "ternary": {
           "aaxis": {
            "gridcolor": "white",
            "linecolor": "white",
            "ticks": ""
           },
           "baxis": {
            "gridcolor": "white",
            "linecolor": "white",
            "ticks": ""
           },
           "bgcolor": "#E5ECF6",
           "caxis": {
            "gridcolor": "white",
            "linecolor": "white",
            "ticks": ""
           }
          },
          "title": {
           "x": 0.05
          },
          "xaxis": {
           "automargin": true,
           "gridcolor": "white",
           "linecolor": "white",
           "ticks": "",
           "title": {
            "standoff": 15
           },
           "zerolinecolor": "white",
           "zerolinewidth": 2
          },
          "yaxis": {
           "automargin": true,
           "gridcolor": "white",
           "linecolor": "white",
           "ticks": "",
           "title": {
            "standoff": 15
           },
           "zerolinecolor": "white",
           "zerolinewidth": 2
          }
         }
        },
        "title": {
         "text": "Top & Bottom Airline Route Profitability (USA) - 2019 Q3"
        }
       }
      },
      "image/png": "[encoded data removed]"
     },
     "metadata": {},
     "output_type": "display_data"
    }
   ],
   "source": [
    "plot_top_and_bottom_routes_by_quarter(year=2019, quarter=3)"
   ]
  },
  {
   "cell_type": "markdown",
   "id": "96942509-a75c-4b49-b988-143429b8df29",
   "metadata": {},
   "source": [
    "### Conclusion\n",
    "\n",
    "This analysis reveals significant disparities in profitability across U.S. domestic airline routes. Routes connecting major economic and population hubs (e.g., **Los Angeles ↔ New York City**) consistently demonstrate strong profitability, largely due to high demand, premium fares, and efficient aircraft utilization. In contrast, some high-traffic routes still operate at a loss, often due to elevated operating costs, pricing competition, or low yield per passenger.\n",
    "\n",
    "The use of **quarterly interpolated block-minute cost estimates**, modeled from **Airlines for America (A4A)** data, allows for a dynamic and realistic simulation of airline operational expenses over time.\n",
    "\n",
    "### Recommendations\n",
    "\n",
    "1. **Optimize Low-Yield Routes**\n",
    "   Airlines should reevaluate low-profit or loss-making routes. Potential actions include reducing flight frequency, right-sizing aircraft, or exploring seasonal operations.\n",
    "\n",
    "2. **Capitalize on High-Margin Routes**\n",
    "   Highly profitable city-pairs offer opportunities to increase frequency, introduce premium cabins, or apply dynamic pricing models to further boost revenue.\n",
    "\n",
    "3. **Incorporate Time Trends**\n",
    "   Since operational costs vary significantly over time, future models should integrate **economic indicators** (e.g., fuel prices, inflation) to improve forecasting accuracy.\n",
    "\n",
    "4. **Evaluate Competition Impact**\n",
    "   Competitive pressure likely contributes to losses on major routes. Combining this dataset with market share or carrier-specific fare data could uncover deeper pricing insights.\n",
    "\n",
    "5. **Use for Strategic Planning**\n",
    "   This model can serve airline network planners as a decision-support tool to continuously monitor performance and adjust strategies by quarter or market."
   ]
  },
  {
   "cell_type": "code",
   "execution_count": null,
   "id": "64e2012c-7097-4798-9b4d-f57fb9219313",
   "metadata": {},
   "outputs": [],
   "source": []
  }
 ],
 "metadata": {
  "kernelspec": {
   "display_name": "Python 3 (ipykernel)",
   "language": "python",
   "name": "python3"
  },
  "language_info": {
   "codemirror_mode": {
    "name": "ipython",
    "version": 3
   },
   "file_extension": ".py",
   "mimetype": "text/x-python",
   "name": "python",
   "nbconvert_exporter": "python",
   "pygments_lexer": "ipython3",
   "version": "3.11.9"
  }
 },
 "nbformat": 4,
 "nbformat_minor": 5
}
